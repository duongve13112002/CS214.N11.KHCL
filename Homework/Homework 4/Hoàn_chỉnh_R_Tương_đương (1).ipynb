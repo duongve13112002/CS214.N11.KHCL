{
  "nbformat": 4,
  "nbformat_minor": 0,
  "metadata": {
    "colab": {
      "provenance": []
    },
    "kernelspec": {
      "name": "python3",
      "display_name": "Python 3"
    },
    "language_info": {
      "name": "python"
    },
    "gpuClass": "standard"
  },
  "cells": [
    {
      "cell_type": "code",
      "execution_count": null,
      "metadata": {
        "id": "OMkd7D3e_anB"
      },
      "outputs": [],
      "source": [
        "operator_list = set('PS')\n",
        "\n",
        "def new_resistance(a,b,c):\n",
        "  if c == 'P':\n",
        "      if float(a) == 0 or float(b) == 0:\n",
        "          return 0\n",
        "      else:\n",
        "          return 1/(1/float(a) + 1/float(b))\n",
        "  else:\n",
        "      return float(a) + float(b)\n",
        "      \n",
        "def resistance(circuit):\n",
        "  if ' ' not in circuit:\n",
        "     return float(circuit)\n",
        "  temp = circuit.split(\" \")\n",
        "  stack = []\n",
        "  for char in temp:\n",
        "      if char in operator_list:\n",
        "          a = new_resistance(stack.pop(), stack.pop(), char)\n",
        "          #print(a)\n",
        "          stack.append(a)\n",
        "      else:\n",
        "          #print(char)\n",
        "          stack.append(char)\n",
        "  return stack[-1]\n",
        "\n"
      ]
    },
    {
      "cell_type": "code",
      "source": [
        "count_1 = 0 \n",
        "count_2 = 0"
      ],
      "metadata": {
        "id": "qjQyfZIn_vw3"
      },
      "execution_count": null,
      "outputs": []
    },
    {
      "cell_type": "code",
      "source": [
        "def convert(s,dict_a):\n",
        "  if '+' not in s and '/' not in s:\n",
        "     if s not in dict_a:\n",
        "        raise ValueError('Wrong input')\n",
        "     else:\n",
        "        return str(dict_a[s])\n",
        "  st = ''\n",
        "  #j = 0\n",
        "  key =''\n",
        "  i = 0\n",
        "  flag = 1\n",
        "  while i < len(s):\n",
        "     #print(s[i])\n",
        "     if s[i] != '+' and s[i] != '/':\n",
        "      key +=s[i]\n",
        "      i+=1\n",
        "     elif s[i] == '+':\n",
        "      #print(key) \n",
        "      if key !='':\n",
        "        if key not in dict_a:\n",
        "           raise ValueError('Wrong input')\n",
        "        st += str(dict_a[key])\n",
        "        st += ' '\n",
        "        key =''\n",
        "        j = i+1\n",
        "        while j < len(s):\n",
        "          if s[j] == '+' or s[j] == '/': \n",
        "            break\n",
        "          else:\n",
        "            j +=1\n",
        "          flag = 0\n",
        "        if s[i+1:j] not in dict_a:\n",
        "           raise ValueError('Wrong input')   \n",
        "        st += str(dict_a[s[i+1:j]])  \n",
        "      else:\n",
        "        j = i+1\n",
        "        while j < len(s):\n",
        "          if s[j] == '+' or s[j] == '/': \n",
        "            break\n",
        "          else:\n",
        "            j +=1\n",
        "          flag = 0\n",
        "        if s[i+1:j] not in dict_a:\n",
        "           raise ValueError('Wrong input')   \n",
        "        st += str(dict_a[s[i+1:j]])\n",
        "      st += ' '\n",
        "      st += 'S '  \n",
        "      i = j       \n",
        "     else:\n",
        "        if key!='':\n",
        "          if key not in dict_a:           \n",
        "            raise ValueError('Wrong input')          \n",
        "          st += str(dict_a[key])\n",
        "          st += ' '\n",
        "          key =''\n",
        "          j = i+1\n",
        "          while j < len(s):\n",
        "            if s[j] == '+' or s[j] == '/': \n",
        "              #print(j)\n",
        "              break\n",
        "            else:\n",
        "              j +=1\n",
        "          if s[i+1:j] not in dict_a:\n",
        "            raise ValueError('Wrong input')  \n",
        "          st += str(dict_a[s[i+1:j]])\n",
        "        else:\n",
        "          j = i+1\n",
        "          while j < len(s):\n",
        "            if s[j] == '+' or s[j] == '/': \n",
        "              break\n",
        "            else:\n",
        "              j +=1\n",
        "            flag = 0 \n",
        "          if s[i+1:j] not in dict_a:\n",
        "            raise ValueError('Wrong input')  \n",
        "          st += str(dict_a[s[i+1:j]])     \n",
        "        st += ' '\n",
        "        st += 'P '\n",
        "        i = j\n",
        "     #print(st)\n",
        "  #print(st)  \n",
        "  return st[:-1]"
      ],
      "metadata": {
        "id": "SY4w5iwN_yvv"
      },
      "execution_count": null,
      "outputs": []
    },
    {
      "cell_type": "code",
      "source": [
        "def maxDepth(S):\n",
        "    current_max = 0\n",
        "    max = 0\n",
        "    n = len(S)\n",
        " \n",
        "    for i in range(n):\n",
        "        if S[i] == '(':\n",
        "            current_max += 1\n",
        " \n",
        "            if current_max > max:\n",
        "                max = current_max\n",
        "        elif S[i] == ')':\n",
        "            if current_max > 0:\n",
        "                current_max -= 1\n",
        "            else:\n",
        "                return -1\n",
        " \n",
        "    if current_max != 0:\n",
        "        return -1\n",
        " \n",
        "    return max"
      ],
      "metadata": {
        "id": "P4HrzIaE_1iH"
      },
      "execution_count": null,
      "outputs": []
    },
    {
      "cell_type": "code",
      "source": [
        "def test(combined):\n",
        "   ls = []\n",
        "   s2 = \"\"\n",
        "   for s in combined.replace(' ', ''):\n",
        "       #print(s)\n",
        "       s2 += s\n",
        "       if s2.count(\"(\") == s2.count(\")\"):\n",
        "           ls.append(s2)\n",
        "           s2 = \"\"\n",
        "   return ls"
      ],
      "metadata": {
        "id": "s58icqg-_60H"
      },
      "execution_count": null,
      "outputs": []
    },
    {
      "cell_type": "code",
      "source": [
        "def convert_m(string_a,dict_a):\n",
        "  dept =  maxDepth(string_a)\n",
        "  if dept == -1 :\n",
        "    raise ValueError('Missing parentheses')\n",
        "  elif string_a == '':\n",
        "    raise ValueError('Missing input')\n",
        "  elif dept == 0:\n",
        "    return resistance(convert(string_a,dict_a))\n",
        "  elif dept ==1:\n",
        "    s1 = test(string_a)\n",
        "    #s2 = All_Occurrences(string_a)\n",
        "    #print(s1)\n",
        "    s3 = 'Z'\n",
        "    global count_1\n",
        "    s4=''\n",
        "    for i in s1:\n",
        "      #print(i[0])\n",
        "      if i[0] == '(':\n",
        "        count_1 +=1\n",
        "        s5 = s3 + str(count_1)\n",
        "        dict_a[s5] = resistance(convert(i[1:-1],dict_a))\n",
        "        s4 +=s5\n",
        "      else:\n",
        "        if i != '/' and i!= '+':\n",
        "          s4+=i\n",
        "        else:\n",
        "          s4 +=i         \n",
        "    return  resistance(convert(s4,dict_a))\n",
        "  else:\n",
        "    s1 = test(string_a)\n",
        "    s3 = 'Y'\n",
        "    s4=''\n",
        "    global count_2\n",
        "    for i in s1:\n",
        "      if i[0] == '(':\n",
        "        #print(i)\n",
        "        count_2+=1\n",
        "        key = convert_m(i[1:-1],dict_a)\n",
        "        s6 = s3 + str(count_2)\n",
        "        dict_a[s6] = key\n",
        "        s4 += s6\n",
        "      else:\n",
        "        if i != '/' and i!= '+':\n",
        "          s4+=i\n",
        "        else:\n",
        "          s4 +=i\n",
        "    return  resistance(convert(s4,dict_a))"
      ],
      "metadata": {
        "id": "Jg9H3P5tAGo3"
      },
      "execution_count": null,
      "outputs": []
    },
    {
      "cell_type": "code",
      "source": [
        "def Convert_str_lst(string):\n",
        "    li = list(string.split(\" \"))\n",
        "    return li"
      ],
      "metadata": {
        "id": "DOYMthTWAJOX"
      },
      "execution_count": null,
      "outputs": []
    },
    {
      "cell_type": "code",
      "source": [
        "lst_res =Convert_str_lst(input(\"Nhập tên các điện trở cách nhau bởi khoảng trắng: \"))"
      ],
      "metadata": {
        "colab": {
          "base_uri": "https://localhost:8080/"
        },
        "id": "wGfN9OPUALEv",
        "outputId": "853183b7-5737-4d20-8454-4c3901e21038"
      },
      "execution_count": null,
      "outputs": [
        {
          "name": "stdout",
          "output_type": "stream",
          "text": [
            "Nhập tên các điện trở cách nhau bởi khoảng trắng: R1 R2 R3 R4\n"
          ]
        }
      ]
    },
    {
      "cell_type": "code",
      "source": [
        "dict_res ={}\n",
        "for i in lst_res:\n",
        "    print(\"Nhập điện trở cho \"+str(i)+\":\")\n",
        "    dict_res[i] = float(input())"
      ],
      "metadata": {
        "colab": {
          "base_uri": "https://localhost:8080/"
        },
        "id": "T2dRvpkLAUQI",
        "outputId": "3239ef28-488d-468e-fab4-a593da181870"
      },
      "execution_count": null,
      "outputs": [
        {
          "name": "stdout",
          "output_type": "stream",
          "text": [
            "Nhập điện trở cho R1:\n",
            "10.5\n",
            "Nhập điện trở cho R2:\n",
            "20\n",
            "Nhập điện trở cho R3:\n",
            "9.5\n",
            "Nhập điện trở cho R4:\n",
            "12\n"
          ]
        }
      ]
    },
    {
      "cell_type": "code",
      "source": [
        "print('Nối tiếp thì dùng dấu \"+\" và song song dùng dấu \"/\" ')\n",
        "print(\"Lưu ý: Không dùng dấu cách\")\n",
        "str_res_input = input('Nhập mạch điện của bạn: ')"
      ],
      "metadata": {
        "colab": {
          "base_uri": "https://localhost:8080/"
        },
        "id": "a0X3oEotAX9Q",
        "outputId": "b420b7a5-7826-439a-8022-de23a0c5432a"
      },
      "execution_count": null,
      "outputs": [
        {
          "name": "stdout",
          "output_type": "stream",
          "text": [
            "Nối tiếp thì dùng dấu \"+\" và song song dùng dấu \"/\" \n",
            "Lưu ý: Không dùng dấu cách\n",
            "Nhập mạch điện của bạn: (R1/(R4+(R3/R2)))+(R1+R3)/R2+R4+((R3+R4)/R1)\n"
          ]
        }
      ]
    },
    {
      "cell_type": "code",
      "source": [
        "print(\"Điện trở tương đương của toàn mạch là: \"+str(convert_m(str_res_input,dict_res)) +\"(Ω)\")"
      ],
      "metadata": {
        "colab": {
          "base_uri": "https://localhost:8080/"
        },
        "id": "r1wtT0dHAX6Y",
        "outputId": "98de9734-f307-41a4-fe4e-54c9e9f0872e"
      },
      "execution_count": null,
      "outputs": [
        {
          "output_type": "stream",
          "name": "stdout",
          "text": [
            "Điện trở tương đương của toàn mạch là: 30.487631155611858(Ω)\n"
          ]
        }
      ]
    }
  ]
}