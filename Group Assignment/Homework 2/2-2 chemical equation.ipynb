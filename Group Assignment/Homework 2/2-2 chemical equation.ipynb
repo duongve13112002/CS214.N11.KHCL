{
  "cells": [
    {
      "cell_type": "markdown",
      "metadata": {
        "id": "9EnNoXDyjwFy"
      },
      "source": [
        "Đọc file"
      ]
    },
    {
      "cell_type": "code",
      "execution_count": null,
      "metadata": {
        "id": "mG6fPLesjvsl"
      },
      "outputs": [],
      "source": [
        "#Tạo thành ma trận 2 chiều cho các chất bên trái và phải phản ứng\n",
        "def read_file_2D(name_file):\n",
        "  with open(name_file, \"r\") as file:\n",
        "      result = [[x for x in line.split()] for line in file]\n",
        "  return result    "
      ]
    },
    {
      "cell_type": "code",
      "execution_count": null,
      "metadata": {
        "colab": {
          "base_uri": "https://localhost:8080/"
        },
        "id": "yiQHi7vej3RU",
        "outputId": "7dd88cf6-fb00-4427-f7df-fcaeb3338e3a"
      },
      "outputs": [
        {
          "name": "stdout",
          "output_type": "stream",
          "text": [
            "['Na + Cl2 -> NaCl', 'KOH + HCl -> KCl + H2O']\n"
          ]
        }
      ],
      "source": [
        "#Đoc file phản ứng ( tạo thành ma trận 1-D)\n",
        "def read_file_1D(name_file):\n",
        "  my_file = open(name_file, \"r\")\n",
        "  data = my_file.read()\n",
        "  PUHH = data.split(\"\\n\")\n",
        "  my_file.close()\n",
        "  return PUHH\n",
        "  "
      ]
    },
    {
      "cell_type": "markdown",
      "metadata": {
        "id": "tI_szJ1blWgT"
      },
      "source": [
        "Yêu cầu người dùng nhập"
      ]
    },
    {
      "cell_type": "code",
      "execution_count": null,
      "metadata": {
        "colab": {
          "base_uri": "https://localhost:8080/"
        },
        "id": "ZHKOxRnhldV5",
        "outputId": "d35f9a2e-dc02-4fee-a108-a3dc5db76247"
      },
      "outputs": [
        {
          "name": "stdout",
          "output_type": "stream",
          "text": [
            "Số chất mà bạn có các chất cách nhau bởi khoảng trắng: K Cl Ca(OH)2 HCl\n",
            "Từ các chất đã có gồm: K, Cl, Ca(OH)2, HCl.\n",
            " Nhập vào chất mà bạn muốn điều chế: HCl Mg K H2SO4\n",
            "['HCl', 'Mg', 'K', 'H2SO4']\n",
            "Bạn có muốn tiếp tục không? Nhập 'Y' để tiếp tục!\n",
            "> n\n"
          ]
        }
      ],
      "source": [
        "\n",
        "\n",
        "def Convert(string):\n",
        "    li = list(string.split(\" \"))\n",
        "    return li\n",
        "\n",
        "lst_chemical_have =Convert(input(\"Số chất mà bạn có các chất cách nhau bởi khoảng trắng: \"))\n",
        "while True:\n",
        "  print(\"Từ các chất đã có gồm: {}.\".format(', '.join(lst_chemical_have)))\n",
        "  lst_chemical_want = Convert(input(\" Nhập vào chất mà bạn muốn điều chế: \"))\n",
        "  print(lst_chemical_want)\n",
        "  print(\"Bạn có muốn tiếp tục không? Nhập 'Y' để tiếp tục!\")\n",
        "  tieptuc = input()\n",
        "  if tieptuc != 'Y':\n",
        "    break "
      ]
    },
    {
      "cell_type": "markdown",
      "metadata": {
        "id": "HuIpotOio_pC"
      },
      "source": [
        "Kiểm tra danh sách rỗng hay không. Nếu rỗng thì in hết các chất có thể có"
      ]
    },
    {
      "cell_type": "code",
      "execution_count": null,
      "metadata": {
        "colab": {
          "base_uri": "https://localhost:8080/"
        },
        "id": "8DkqC97Uo55V",
        "outputId": "4d99d8ae-dac4-47e3-92e9-8b530642f15f"
      },
      "outputs": [
        {
          "name": "stdout",
          "output_type": "stream",
          "text": [
            "HCl đã có trong chất đã cho rùi điều chế làm j\n",
            "K đã có trong chất đã cho rùi điều chế làm j\n",
            "['Mg', 'H2SO4']\n"
          ]
        }
      ],
      "source": [
        "chemical_right = [] #demo\n",
        "def find_chemical_real(chemical_right,lst_chemical_want):\n",
        "  lst_chemical_want_real = []\n",
        "  if not lst_chemical_want:\n",
        "    lst_chemical_want = chemical_right.copy()\n",
        "  else : #Loại bỏ TH các chất muốn đã có trong chất cho\n",
        "    for i in lst_chemical_want:\n",
        "      flag_sp_want = 0\n",
        "      if i not in lst_chemical_have:\n",
        "        lst_chemical_want_real.append(i)\n",
        "      else:\n",
        "        print(str(i)+\" đã có trong chất đã cho rùi điều chế làm gì\")\n",
        "        flag_sp_want = 1\n",
        "      if flag_sp_want == 0:  \n",
        "        if i not in chemical_right:\n",
        "          print(str(i)+\" không thể điều chế được vì không nằm trong database\")\n",
        "        else:\n",
        "          lst_chemical_want_real.append(i)\n",
        "  #print(lst_chemical_want_real)\n",
        "  return lst_chemical_want_real"
      ]
    },
    {
      "cell_type": "markdown",
      "metadata": {
        "id": "p7--gg6mHT9G"
      },
      "source": [
        "Hàm giải bài toán"
      ]
    },
    {
      "cell_type": "code",
      "execution_count": null,
      "metadata": {
        "id": "R_KUfJsMHTrb"
      },
      "outputs": [],
      "source": [
        "def Solution_support(chat_yeu_cau,chat_tao_thanh,chat_duoc_cho,Chat_mong_muon):\n",
        "  #chat_duoc_cho = [\"NaCl\",\"H2O\",\"K\",\"SO2\",\"Cu\"]\n",
        "  Chat_duoc_cho = chat_duoc_cho.copy()\n",
        "\n",
        "  #chat_yeu_cau=[['H2O'],['S', 'O2'],['SO2', 'O2', 'H2O'],['NaCl'],['NaCl', 'H2O'],['NaOH', 'H2SO4'],['Cl2', 'H2O'],['Na', 'Cl2'],['Fe', 'Cl2'],['Cu', 'Cl2'],['MnO2', 'HCl'],['HCl', 'KMnO4'],['K', 'Cl2']]\n",
        "  Chat_yeu_cau = chat_yeu_cau.copy()\n",
        "  #chat_tao_thanh= [['H2', 'O2'],['SO2'],['H2SO4'],['Na', 'Cl2'],['NaOH', 'H2', 'Cl2'],['Na2SO4', 'H2O'],['HCl', 'HClO'],['NaCl'],['FeCl3'], ['CuCl2'],['MnCl2', 'Cl2', 'H2O'],['KCl', 'MnCl2', 'Cl2', 'H2O'],['KCl']]\n",
        "  #Chat_mong_muon =[\"NaOH\",\"Na2SO4\",\"HClO\"]\n",
        "  #PUHH = ['2H2O ---> 2H2 + O2' , 'S + O2 ---> SO2','SO2 + O2 + H2O ---> H2SO4','2NaCl ---> 2Na + Cl2','2NaCl + 2H2O ---> 2NaOH + H2 + Cl2','2NaOH + H2SO4 ---> Na2SO4 + 2H2O','Cl2 + H2O ---> HCl + HClO','2Na + Cl2 ---> 2NaCl','2Fe + 3Cl2 ---> 2FeCl3','Cu + Cl2 ---> CuCl2','MnO2 + 4HCl ---> MnCl2 + Cl2 + 2H2O','16HCl + 2KMnO4 ---> 2KCl + 2MnCl2 + 5Cl2 + 8H2O','2K + Cl2 ---> 2KCl']\n",
        "  index_sp =[]\n",
        "  PTTH =[]\n",
        "  pu_thoa_man = []\n",
        "  start = 0\n",
        "  flagz =0 \n",
        "  flag_len = []\n",
        "  flag = 0\n",
        "  index_nhan_dang = -1\n",
        "  flag_dau =1\n",
        "  while flagz ==0  or start == 0:\n",
        "    #print(len(Chat_yeu_cau))\n",
        "    flag_le = 0\n",
        "    le = len(Chat_yeu_cau)\n",
        "    i = 0\n",
        "    while i < le:\n",
        "      #print(\"hi\")\n",
        "      #print(Chat_duoc_cho)\n",
        "      k = 0\n",
        "      flagz = 0\n",
        "      start = 1\n",
        "      flag_i = 0\n",
        "      #print(i)\n",
        "      #print(Chat_yeu_cau[i])\n",
        "      for j in Chat_yeu_cau[i]:\n",
        "        if j in Chat_duoc_cho:\n",
        "          k+=1\n",
        "        if k == len(Chat_yeu_cau[i]):\n",
        "          #print(\"hi\")\n",
        "          if pu_thoa_man:\n",
        "            #print(\"hi\")\n",
        "            #print(Chat_yeu_cau[i])\n",
        "            #print(chat_yeu_cau.index(Chat_yeu_cau[i]))\n",
        "            pu_thoa_man.append(chat_yeu_cau.index(Chat_yeu_cau[i]))\n",
        "          else:\n",
        "            #print(\"hi\")\n",
        "            pu_thoa_man.append(i)  \n",
        "          Chat_yeu_cau.pop(i)\n",
        "          le = len(Chat_yeu_cau)\n",
        "          flag_len.append(le)\n",
        "          flag_le =1\n",
        "          i = 0\n",
        "          flag_i =1 \n",
        "          #print(Chat_yeu_cau)\n",
        "        \n",
        "      if flag_i == 0:\n",
        "        i+=1\n",
        "\n",
        "    #print(pu_thoa_man)\n",
        "    for i in pu_thoa_man:\n",
        "      PTTH1 = []\n",
        "      #flag = 0\n",
        "      #print(i)\n",
        "      flag_da = 0\n",
        "      for j in chat_tao_thanh[i]:\n",
        "        #print(j)\n",
        "        if j not in Chat_duoc_cho:\n",
        "          Chat_duoc_cho.append(j)\n",
        "          #print(Chat_duoc_cho)\n",
        "        if j in  Chat_mong_muon:\n",
        "          #print(j)\n",
        "          flag_da =1\n",
        "          if i not in index_sp:\n",
        "            #print(\"hi\")\n",
        "            if index_nhan_dang ==-1:\n",
        "              index_nhan_dang = i\n",
        "            index_sp.append(i)\n",
        "            PTTH1.append(i)\n",
        "      if flag_da == 1:\n",
        "        for j in chat_yeu_cau[i]:\n",
        "          if j not in chat_duoc_cho:\n",
        "            for m in  pu_thoa_man:\n",
        "              if j in chat_tao_thanh[m]:\n",
        "                PTTH1.append(m)\n",
        "          #PTTH1.reverse()\n",
        "          if flag == 0:\n",
        "            #print(PTTH1)\n",
        "            flag = 1\n",
        "            PTTH +=PTTH1\n",
        "          else:\n",
        "            for z in   PTTH1:\n",
        "              #print(z)\n",
        "              if z not in PTTH:\n",
        "              #PTTH.append(z)\n",
        "                helper = PTTH.copy()\n",
        "                PTTH = [z] + helper \n",
        "          #PTTH.reverse()\n",
        "    #print(len(Chat_yeu_cau))\n",
        "    #print(PTTH)\n",
        "    if flag_len[-1] == len(Chat_yeu_cau) and flag_le  == 0:\n",
        "      if index_nhan_dang == PTTH[0]:\n",
        "        PTTH.reverse()\n",
        "      flagz = 1      \n",
        "    #print(flagz)\n",
        "  return PTTH\n",
        "\n",
        "def Solution_chemical(chat_yeu_cau,chat_tao_thanh,chat_duoc_cho,Chat_mong_muon,PUHH):\n",
        "  PTTH =  Solution_support(chat_yeu_cau,chat_tao_thanh,chat_duoc_cho,Chat_mong_muon)\n",
        "  for i in  PTTH:\n",
        "    print(PUHH[i])   \n"
      ]
    },
    {
      "cell_type": "markdown",
      "metadata": {
        "id": "xFxy-LB75kdT"
      },
      "source": [
        "Kiểm tra list rỗng ( trong trường hợp số TH cần tìm người nhập ko nhập)"
      ]
    },
    {
      "cell_type": "code",
      "execution_count": null,
      "metadata": {
        "colab": {
          "base_uri": "https://localhost:8080/"
        },
        "id": "3WFl5QDB0KO7",
        "outputId": "375d2a05-2db3-4805-9f94-9d37e4c5489d"
      },
      "outputs": [
        {
          "name": "stdout",
          "output_type": "stream",
          "text": [
            "gi\n"
          ]
        }
      ],
      "source": [
        "a = []\n",
        "if not a:\n",
        "  print(\"gi\")"
      ]
    },
    {
      "cell_type": "code",
      "execution_count": null,
      "metadata": {
        "id": "PcrVm20PHSpp"
      },
      "outputs": [],
      "source": []
    },
    {
      "cell_type": "markdown",
      "metadata": {
        "id": "0MA9EC475u75"
      },
      "source": [
        "Kiểm tra các chất yếu cầu được tạo có nằm trong database ko"
      ]
    },
    {
      "cell_type": "code",
      "execution_count": null,
      "metadata": {
        "colab": {
          "base_uri": "https://localhost:8080/"
        },
        "id": "LecAZNeG0q8o",
        "outputId": "ba816ff8-9c26-41a0-c63b-cfc9f45fb904"
      },
      "outputs": [
        {
          "name": "stdout",
          "output_type": "stream",
          "text": [
            "Mg không thể chế tạo được\n"
          ]
        }
      ],
      "source": [
        "san_pham=[\"Cl\",\"H2SO4\"]\n",
        "tim =[\"Mg\",\"Cl\"]\n",
        "index_xoa = []\n",
        "for i in range(0,len(tim)):\n",
        "  if tim[i] not in san_pham:\n",
        "    print(str(tim[i])+\" không thể chế tạo được\")\n",
        "    index_xoa.append(i)\n",
        "for i in  index_xoa:\n",
        "  tim.pop(i)   \n"
      ]
    },
    {
      "cell_type": "markdown",
      "metadata": {
        "id": "38iP-AsW51qL"
      },
      "source": [
        "Kiểm tra các chất dc yêu cầu nằm trong vế trái phản ứng không"
      ]
    },
    {
      "cell_type": "code",
      "execution_count": null,
      "metadata": {
        "colab": {
          "base_uri": "https://localhost:8080/"
        },
        "id": "ZdsCgNXW2nIh",
        "outputId": "3915d73c-7f6e-483e-a76a-b293ab5fc60e"
      },
      "outputs": [
        {
          "name": "stdout",
          "output_type": "stream",
          "text": [
            "[1]\n"
          ]
        }
      ],
      "source": [
        "Chat_duoc_cho= [\"NaOH\",\"HCL\"]\n",
        "chat_yeu_cau=[[\"K\",\"Cl\"],\n",
        "              [\"NaOH\",\"HCL\"],[\"K\",\"H2O\"]]\n",
        "pu_thoa_man = []\n",
        "for i in range(0,len(chat_yeu_cau)):\n",
        "  k = 0\n",
        "  for j in chat_yeu_cau[i]:\n",
        "    if j in Chat_duoc_cho:\n",
        "      k+=1\n",
        "    if k == len(chat_yeu_cau[i]):\n",
        "      pu_thoa_man.append(i)\n",
        "print(pu_thoa_man)       "
      ]
    },
    {
      "cell_type": "markdown",
      "metadata": {
        "id": "iv0D1wW-8fuD"
      },
      "source": [
        "Thêm các chất bên phải phản ứng vào chất đã cho và check thử coi chất bên phải đó có là yêu cầu hay ko "
      ]
    },
    {
      "cell_type": "code",
      "execution_count": null,
      "metadata": {
        "colab": {
          "base_uri": "https://localhost:8080/"
        },
        "id": "HI_yddBT6Gsa",
        "outputId": "905fb562-0eeb-470f-92a6-23b5ba468d84"
      },
      "outputs": [
        {
          "name": "stdout",
          "output_type": "stream",
          "text": [
            "[]\n",
            "['NaCl', 'H2O', 'K', 'SO2', 'Cu']\n",
            "[]\n"
          ]
        }
      ],
      "source": [
        "chat_duoc_cho = [\"NaCl\",\"H2O\",\"K\",\"SO2\",\"Cu\"]\n",
        "Chat_duoc_cho = chat_duoc_cho.copy()\n",
        "\n",
        "chat_yeu_cau=[['H2O'],['S', 'O2'],['SO2', 'O2', 'H2O'],['NaCl'],['NaCl', 'H2O'],['NaOH', 'H2SO4'],['Cl2', 'H2O'],['Na', 'Cl2'],['Fe', 'Cl2'],['Cu', 'Cl2'],['MnO2', 'HCl'],['HCl', 'KMnO4'],['K', 'Cl2']]\n",
        "Chat_yeu_cau = chat_yeu_cau.copy()\n",
        "chat_tao_thanh= [['H2', 'O2'],['SO2'],['H2SO4'],['Na', 'Cl2'],['NaOH', 'H2', 'Cl2'],['Na2SO4', 'H2O'],['HCl', 'HClO'],['NaCl'],['FeCl3'], ['CuCl2'],['MnCl2', 'Cl2', 'H2O'],['KCl', 'MnCl2', 'Cl2', 'H2O'],['KCl']]\n",
        "Chat_mong_muon =[\"NaOH\",\"Na2SO4\",\"HClO\"]\n",
        "PUHH = ['2H2O ---> 2H2 + O2' , 'S + O2 ---> SO2','SO2 + O2 + H2O ---> H2SO4','2NaCl ---> 2Na + Cl2','2NaCl + 2H2O ---> 2NaOH + H2 + Cl2','2NaOH + H2SO4 ---> Na2SO4 + 2H2O','Cl2 + H2O ---> HCl + HClO','2Na + Cl2 ---> 2NaCl','2Fe + 3Cl2 ---> 2FeCl3','Cu + Cl2 ---> CuCl2','MnO2 + 4HCl ---> MnCl2 + Cl2 + 2H2O','16HCl + 2KMnO4 ---> 2KCl + 2MnCl2 + 5Cl2 + 8H2O','2K + Cl2 ---> 2KCl']\n",
        "index_sp =[]\n",
        "PTTH =[]\n",
        "pu_thoa_man = []\n",
        "\n",
        "\n",
        "\"\"\"for i in range(0,len(chat_yeu_cau)):\n",
        "  k = 0\n",
        "  for j in chat_yeu_cau[i]:\n",
        "    if j in Chat_duoc_cho:\n",
        "      k+=1\n",
        "    if k == len(chat_yeu_cau[i]):\n",
        "      pu_thoa_man.append(i)\n",
        "for i in pu_thoa_man:\n",
        "  PTTH1 = []\n",
        "  for j in chat_tao_thanh[i]:\n",
        "    #print(j)\n",
        "    if j not in Chat_duoc_cho:\n",
        "      Chat_duoc_cho.append(j)\n",
        "    if j in  Chat_mong_muon:\n",
        "      if i not in index_sp:\n",
        "        index_sp.append(i)\n",
        "        PTTH1.append(i)\n",
        "  for j in chat_yeu_cau[i]:\n",
        "    if j not in chat_duoc_cho:\n",
        "      for m in  pu_thoa_man:\n",
        "        if j in chat_tao_thanh[m]:\n",
        "          PTTH1.append(m)\n",
        "    PTTH1.reverse()\n",
        "    PTTH +=PTTH1  \"\"\"    \n",
        "print(PTTH)\n",
        "\n",
        "print(Chat_duoc_cho)\n",
        "print(index_sp)"
      ]
    },
    {
      "cell_type": "code",
      "execution_count": null,
      "metadata": {
        "colab": {
          "base_uri": "https://localhost:8080/"
        },
        "id": "AwX4ujM-_-sE",
        "outputId": "12c98873-a7e1-4093-f94c-5d29de0778d2"
      },
      "outputs": [
        {
          "name": "stdout",
          "output_type": "stream",
          "text": [
            "[4]\n"
          ]
        }
      ],
      "source": [
        "oi = 4\n",
        "print([oi])"
      ]
    },
    {
      "cell_type": "code",
      "execution_count": null,
      "metadata": {
        "colab": {
          "base_uri": "https://localhost:8080/"
        },
        "id": "ksl8IYH3WgMe",
        "outputId": "8870e22f-6b6c-43af-d66c-bd76ee04d531"
      },
      "outputs": [
        {
          "name": "stdout",
          "output_type": "stream",
          "text": [
            "[4]\n",
            "[4]\n",
            "[3, 6, 4]\n",
            "[2, 5, 3, 6, 4]\n",
            "[2, 5, 3, 6, 4]\n"
          ]
        }
      ],
      "source": [
        "start = 0\n",
        "flagz =0 \n",
        "flag_len = []\n",
        "flag = 0\n",
        "index_nhan_dang = -1\n",
        "flag_dau =1\n",
        "while flagz ==0  or start == 0:\n",
        "  #print(len(Chat_yeu_cau))\n",
        "  flag_le = 0\n",
        "  le = len(Chat_yeu_cau)\n",
        "  i = 0\n",
        "  while i < le:\n",
        "    #print(\"hi\")\n",
        "    #print(Chat_duoc_cho)\n",
        "    k = 0\n",
        "    flagz = 0\n",
        "    start = 1\n",
        "    flag_i = 0\n",
        "    #print(i)\n",
        "    #print(Chat_yeu_cau[i])\n",
        "    for j in Chat_yeu_cau[i]:\n",
        "      if j in Chat_duoc_cho:\n",
        "        k+=1\n",
        "      if k == len(Chat_yeu_cau[i]):\n",
        "        #print(\"hi\")\n",
        "        if pu_thoa_man:\n",
        "          #print(\"hi\")\n",
        "          #print(Chat_yeu_cau[i])\n",
        "          #print(chat_yeu_cau.index(Chat_yeu_cau[i]))\n",
        "          pu_thoa_man.append(chat_yeu_cau.index(Chat_yeu_cau[i]))\n",
        "        else:\n",
        "          #print(\"hi\")\n",
        "          pu_thoa_man.append(i)  \n",
        "        Chat_yeu_cau.pop(i)\n",
        "        le = len(Chat_yeu_cau)\n",
        "        flag_len.append(le)\n",
        "        flag_le =1\n",
        "        i = 0\n",
        "        flag_i =1 \n",
        "        #print(Chat_yeu_cau)\n",
        "        \n",
        "    if flag_i == 0:\n",
        "      i+=1\n",
        "\n",
        "  #print(pu_thoa_man)\n",
        "  for i in pu_thoa_man:\n",
        "    PTTH1 = []\n",
        "    #flag = 0\n",
        "    #print(i)\n",
        "    flag_da = 0\n",
        "    for j in chat_tao_thanh[i]:\n",
        "      #print(j)\n",
        "      if j not in Chat_duoc_cho:\n",
        "        Chat_duoc_cho.append(j)\n",
        "        #print(Chat_duoc_cho)\n",
        "      if j in  Chat_mong_muon:\n",
        "        #print(j)\n",
        "        flag_da =1\n",
        "        if i not in index_sp:\n",
        "          #print(\"hi\")\n",
        "          if index_nhan_dang ==-1:\n",
        "            index_nhan_dang = i\n",
        "          index_sp.append(i)\n",
        "          PTTH1.append(i)\n",
        "    if flag_da == 1:\n",
        "      for j in chat_yeu_cau[i]:\n",
        "        if j not in chat_duoc_cho:\n",
        "          for m in  pu_thoa_man:\n",
        "            if j in chat_tao_thanh[m]:\n",
        "              PTTH1.append(m)\n",
        "        #PTTH1.reverse()\n",
        "        if flag == 0:\n",
        "          print(PTTH1)\n",
        "          flag = 1\n",
        "          PTTH +=PTTH1\n",
        "        else:\n",
        "          for z in   PTTH1:\n",
        "            #print(z)\n",
        "            if z not in PTTH:\n",
        "              #PTTH.append(z)\n",
        "              helper = PTTH.copy()\n",
        "              PTTH = [z] + helper \n",
        "        #PTTH.reverse()\n",
        "  #print(len(Chat_yeu_cau))\n",
        "  print(PTTH)\n",
        "  if flag_len[-1] == len(Chat_yeu_cau) and flag_le  == 0:\n",
        "     if index_nhan_dang == PTTH[0]:\n",
        "      PTTH.reverse()\n",
        "     flagz = 1      \n",
        "  #print(flagz)          \n",
        "\n",
        "      \n"
      ]
    },
    {
      "cell_type": "code",
      "execution_count": null,
      "metadata": {
        "colab": {
          "base_uri": "https://localhost:8080/"
        },
        "id": "KBTa_eDsNprQ",
        "outputId": "9d3bbb0f-2eeb-42fc-f2b7-650df760860a"
      },
      "outputs": [
        {
          "name": "stdout",
          "output_type": "stream",
          "text": [
            "['NaOH', 'HCl', 'K', 'H2SO4', 'NaCl', 'H2O', 'KOH', 'H2', 'KCl', 'K2SO4']\n"
          ]
        }
      ],
      "source": [
        "print(Chat_duoc_cho)"
      ]
    },
    {
      "cell_type": "code",
      "execution_count": null,
      "metadata": {
        "colab": {
          "base_uri": "https://localhost:8080/"
        },
        "id": "I9XhtvVHXWZL",
        "outputId": "aa9981f5-d76e-47bb-be65-1b2f7afaf86f"
      },
      "outputs": [
        {
          "name": "stdout",
          "output_type": "stream",
          "text": [
            "[2, 5, 4]\n"
          ]
        }
      ],
      "source": [
        "print(PTTH)"
      ]
    },
    {
      "cell_type": "code",
      "execution_count": null,
      "metadata": {
        "colab": {
          "base_uri": "https://localhost:8080/"
        },
        "id": "97M87QWSR4p5",
        "outputId": "60bae65e-104c-47e7-ed2c-6b88ae6ff76c"
      },
      "outputs": [
        {
          "name": "stdout",
          "output_type": "stream",
          "text": [
            "SO2 + O2 + H2O ---> H2SO4\n",
            "2NaOH + H2SO4 ---> Na2SO4 + 2H2O\n",
            "2NaCl ---> 2Na + Cl2\n",
            "Cl2 + H2O ---> HCl + HClO\n",
            "2NaCl + 2H2O ---> 2NaOH + H2 + Cl2\n"
          ]
        }
      ],
      "source": [
        "for i in PTTH:\n",
        "  print(PUHH[i])"
      ]
    },
    {
      "cell_type": "code",
      "execution_count": null,
      "metadata": {
        "colab": {
          "base_uri": "https://localhost:8080/"
        },
        "id": "ZKwina1x2ZEy",
        "outputId": "9433d7fd-fd2e-42d1-e92e-001b0adb7889"
      },
      "outputs": [
        {
          "name": "stdout",
          "output_type": "stream",
          "text": [
            "[0, 1, 2]\n"
          ]
        }
      ],
      "source": [
        "print(pu_thoa_man)"
      ]
    },
    {
      "cell_type": "markdown",
      "metadata": {
        "id": "wT6d2WNAPPv1"
      },
      "source": [
        "reserver lại"
      ]
    },
    {
      "cell_type": "code",
      "execution_count": null,
      "metadata": {
        "id": "f7HFJ5NCPZsy"
      },
      "outputs": [],
      "source": [
        "flag = 1 \n",
        "while flag:\n",
        "  for i in index_sp:\n",
        "    for j in chat_yeu_cau[i]:\n",
        "      if j not in chat_duoc_cho:\n",
        "        "
      ]
    },
    {
      "cell_type": "markdown",
      "metadata": {
        "id": "DZWRWb1tjhA1"
      },
      "source": [
        "#Chính"
      ]
    },
    {
      "cell_type": "code",
      "execution_count": 136,
      "metadata": {
        "id": "PwxB6HPjK9QD"
      },
      "outputs": [],
      "source": [
        "#Tạo thành ma trận 2 chiều cho các chất bên trái và phải phản ứng\n",
        "def read_file_2D(name_file):\n",
        "  with open(name_file, \"r\") as file:\n",
        "      result = [[x for x in line.split()] for line in file]\n",
        "  return result    \n",
        "\n",
        "#Đoc file phản ứng ( tạo thành ma trận 1-D)\n",
        "def read_file_1D(name_file):\n",
        "  my_file = open(name_file, \"r\")\n",
        "  data = my_file.read()\n",
        "  PUHH = data.split(\"\\n\")\n",
        "  my_file.close()\n",
        "  return PUHH\n",
        "\n",
        "\n",
        "def Convert(string):\n",
        "    li = list(string.split(\" \"))\n",
        "    return li\n",
        "\n",
        "\n",
        "def find_chemical_real(chemical_right,lst_chemical_want):\n",
        "  lst_chemical_want_real = []\n",
        "  #lst_chemical_want_real1 = []\n",
        "  if not lst_chemical_want:\n",
        "    #print(\"ho\")\n",
        "    lst_chemical_want_real = sum(chemical_right.copy(), [])\n",
        "  else : #Loại bỏ TH các chất muốn đã có trong chất cho\n",
        "    for i in lst_chemical_want:\n",
        "      flag_sp_want = 0\n",
        "      if i in lst_chemical_have:\n",
        "        print(str(i)+\" đã có trong chất đã cho rùi điều chế làm gì\")\n",
        "        flag_sp_want = 1\n",
        "      if flag_sp_want == 0:\n",
        "        flag_sp_loai = 0\n",
        "        for j in chemical_right:          \n",
        "          if i  in j:\n",
        "            #print(str(i)+\" không thể điều chế được vì không nằm trong database\")\n",
        "            if i not in lst_chemical_want_real:\n",
        "              lst_chemical_want_real.append(i)\n",
        "            flag_sp_loai = 1\n",
        "        if flag_sp_loai == 0:\n",
        "          print(str(i)+\" không thể điều chế được vì không nằm trong nguồn tri thức\")\n",
        "            \n",
        "  #print(lst_chemical_want_real)\n",
        "  return lst_chemical_want_real    \n",
        "\n",
        "\n",
        "def Solution_support(chat_yeu_cau,chat_tao_thanh,chat_duoc_cho,Chat_mong_muon):\n",
        "  #chat_duoc_cho = [\"NaCl\",\"H2O\",\"K\",\"SO2\",\"Cu\"]\n",
        "  Chat_duoc_cho = chat_duoc_cho.copy()\n",
        "  Cac_chat_da_tim_duoc =[]\n",
        "  #chat_yeu_cau=[['H2O'],['S', 'O2'],['SO2', 'O2', 'H2O'],['NaCl'],['NaCl', 'H2O'],['NaOH', 'H2SO4'],['Cl2', 'H2O'],['Na', 'Cl2'],['Fe', 'Cl2'],['Cu', 'Cl2'],['MnO2', 'HCl'],['HCl', 'KMnO4'],['K', 'Cl2']]\n",
        "  Chat_yeu_cau = chat_yeu_cau.copy()\n",
        "  #chat_tao_thanh= [['H2', 'O2'],['SO2'],['H2SO4'],['Na', 'Cl2'],['NaOH', 'H2', 'Cl2'],['Na2SO4', 'H2O'],['HCl', 'HClO'],['NaCl'],['FeCl3'], ['CuCl2'],['MnCl2', 'Cl2', 'H2O'],['KCl', 'MnCl2', 'Cl2', 'H2O'],['KCl']]\n",
        "  #Chat_mong_muon =[\"NaOH\",\"Na2SO4\",\"HClO\"]\n",
        "  #PUHH = ['2H2O ---> 2H2 + O2' , 'S + O2 ---> SO2','SO2 + O2 + H2O ---> H2SO4','2NaCl ---> 2Na + Cl2','2NaCl + 2H2O ---> 2NaOH + H2 + Cl2','2NaOH + H2SO4 ---> Na2SO4 + 2H2O','Cl2 + H2O ---> HCl + HClO','2Na + Cl2 ---> 2NaCl','2Fe + 3Cl2 ---> 2FeCl3','Cu + Cl2 ---> CuCl2','MnO2 + 4HCl ---> MnCl2 + Cl2 + 2H2O','16HCl + 2KMnO4 ---> 2KCl + 2MnCl2 + 5Cl2 + 8H2O','2K + Cl2 ---> 2KCl']\n",
        "  index_sp =[]\n",
        "  PTTH =[]\n",
        "  pu_thoa_man = []\n",
        "  start = 0\n",
        "  flagz =0 \n",
        "  flag_len = []\n",
        "  flag = 0\n",
        "  index_nhan_dang = -1\n",
        "  flag_dau =1\n",
        "  while flagz ==0  or start == 0:\n",
        "    #print(len(Chat_yeu_cau))\n",
        "    flag_le = 0\n",
        "    le = len(Chat_yeu_cau)\n",
        "    i = 0\n",
        "    while i < le:\n",
        "      #print(\"hi\")\n",
        "      #print(Chat_duoc_cho)\n",
        "      k = 0\n",
        "      flagz = 0\n",
        "      start = 1\n",
        "      flag_i = 0\n",
        "      #print(i)\n",
        "      #print(Chat_yeu_cau[i])\n",
        "      for j in Chat_yeu_cau[i]:\n",
        "        if j in Chat_duoc_cho:\n",
        "          k+=1\n",
        "        if k == len(Chat_yeu_cau[i]):\n",
        "          #print(\"hi\")\n",
        "          if pu_thoa_man:\n",
        "            #print(\"hi\")\n",
        "            #print(Chat_yeu_cau[i])\n",
        "            #print(chat_yeu_cau.index(Chat_yeu_cau[i]))\n",
        "            pu_thoa_man.append(chat_yeu_cau.index(Chat_yeu_cau[i]))\n",
        "          else:\n",
        "            #print(\"hi\")\n",
        "            pu_thoa_man.append(i)  \n",
        "          Chat_yeu_cau.pop(i)\n",
        "          le = len(Chat_yeu_cau)\n",
        "          flag_len.append(le)\n",
        "          flag_le =1\n",
        "          i = 0\n",
        "          flag_i =1 \n",
        "          #print(Chat_yeu_cau)\n",
        "        \n",
        "      if flag_i == 0:\n",
        "        i+=1\n",
        "\n",
        "    #print(pu_thoa_man)\n",
        "    for i in pu_thoa_man:\n",
        "      PTTH1 = []\n",
        "      #flag = 0\n",
        "      #print(i)\n",
        "      flag_da = 0\n",
        "      for j in chat_tao_thanh[i]:\n",
        "        #print(j)\n",
        "        if j not in Chat_duoc_cho:\n",
        "          Chat_duoc_cho.append(j)\n",
        "          #print(Chat_duoc_cho)\n",
        "        if j in  Chat_mong_muon:\n",
        "          #print(j)\n",
        "          flag_da =1\n",
        "          if j not in Cac_chat_da_tim_duoc:\n",
        "            Cac_chat_da_tim_duoc.append(j)\n",
        "          if i not in index_sp:\n",
        "            #print(\"hi\")\n",
        "            if index_nhan_dang ==-1:\n",
        "              index_nhan_dang = i\n",
        "            index_sp.append(i)\n",
        "            PTTH1.append(i)\n",
        "      if flag_da == 1:\n",
        "        for ja in chat_yeu_cau[i]:\n",
        "          if ja not in chat_duoc_cho:\n",
        "            m = 0\n",
        "            while m < len(pu_thoa_man):\n",
        "            #for m in  pu_thoa_man:\n",
        "              if ja in chat_tao_thanh[pu_thoa_man[m]] and pu_thoa_man[m] not in PTTH1:\n",
        "                PTTH1.append(pu_thoa_man[m])\n",
        "                m =0\n",
        "              else:\n",
        "                m+=1   \n",
        "              #print(\"PTTH1:\"+str(PTTH1))                                 \n",
        "          #print(\"PTTH1:\"+str(PTTH1))\n",
        "          if len(PTTH1) >0:\n",
        "            for lk in PTTH1:\n",
        "              for yc in chat_yeu_cau[lk]:\n",
        "                if yc not in chat_duoc_cho:\n",
        "                  for i in pu_thoa_man:\n",
        "                    if yc in chat_tao_thanh[i] and i not in PTTH1:\n",
        "                      PTTH1.append(i)\n",
        "\n",
        "          #PTTH1.reverse()\n",
        "          #print(PTTH1)\n",
        "          if flag == 0:\n",
        "            #print(PTTH1)\n",
        "            flag = 1\n",
        "            PTTH +=PTTH1\n",
        "          else:\n",
        "            #PTTH1.reverse()\n",
        "            for z in   PTTH1:\n",
        "              #print(z)\n",
        "              if z not in PTTH:\n",
        "              #PTTH.append(z)\n",
        "                helper = PTTH.copy()\n",
        "                PTTH =  [z] + helper \n",
        "          #PTTH.reverse()\n",
        "    #print(len(Chat_yeu_cau))\n",
        "    #print(PTTH)\n",
        "    if not flag_len:\n",
        "      flagz = 1 \n",
        "    elif flag_len[-1] == len(Chat_yeu_cau) and flag_le  == 0:\n",
        "      #if PTTH :\n",
        "        #if index_nhan_dang == PTTH[0]:\n",
        "          #PTTH.reverse()\n",
        "      flagz = 1      \n",
        "    #print(flagz)    \n",
        "    #print(\"PUHH:\"+str(PTTH))\n",
        "\n",
        "  Chat_duoc_cho_max = chat_duoc_cho.copy()\n",
        "  count_have = 0\n",
        "  for m in range(0,len(PTTH)) :\n",
        "      hi_ne = 0\n",
        "      for k_chat in chat_yeu_cau[PTTH[m]]:\n",
        "        if k_chat  in chat_duoc_cho:\n",
        "          #sp_thui_ne = PTTH[m]\n",
        "          #PTTH.pop(m)\n",
        "          #PTTH.insert(-1,sp_thui_ne)\n",
        "          hi_ne +=1\n",
        "        if hi_ne == len(chat_yeu_cau[PTTH[m]]):\n",
        "          sp_thui_ne = PTTH[m]\n",
        "          PTTH.pop(m)\n",
        "          PTTH.insert(0,sp_thui_ne)\n",
        "          count_have+=1            \n",
        "  #print(PTTH)\n",
        "  for i in range(0,count_have):\n",
        "    for j in chat_tao_thanh[PTTH[i]]:\n",
        "      if j not in Chat_duoc_cho_max:\n",
        "        Chat_duoc_cho_max.append(i) \n",
        "  '''helper_lsa = []\n",
        "  #print(count_have)\n",
        "  m = count_have\n",
        "  \n",
        "  lst_hist =[]\n",
        "  lst_hist.append(PTTH)\n",
        "  len_PTYTY = len(PTTH)\n",
        "  while m < len_PTYTY:\n",
        "    #flag_sa = 0 \n",
        "    n = m+1\n",
        "    while n <len_PTYTY:\n",
        "      #print(PTTH)      \n",
        "      for chat_can_m in chat_yeu_cau[PTTH[m]]:\n",
        "        if chat_can_m in  chat_tao_thanh[PTTH[n]] and chat_can_m not in chat_duoc_cho :\n",
        "          km = PTTH[m]\n",
        "          super_flag = 0\n",
        "          #print(PTTH)\n",
        "          PTTH.pop(m)\n",
        "          #PTTH[m] = km\n",
        "          PTTH.insert(n,km)\n",
        "          #helper_lsa.append(km)\n",
        "          #print(PTTH)\n",
        "          #m = count_have\n",
        "          #n = count_have\n",
        "          flag_sa = 1\n",
        "          lst_hist.append(PTTH) \n",
        "          #m = n\n",
        "          n = len_PTYTY\n",
        "          break       \n",
        "      n +=1\n",
        "    #if flag_sa == 0:   \n",
        "    m+=1  '''      \n",
        "  '''for m in range(count_have,len(PTTH)) :\n",
        "    for n in range(count_have+1,len(PTTH)):\n",
        "      for chat_can_m in chat_yeu_cau[PTTH[m]]:\n",
        "        #print(chat_can_m)\n",
        "        #print(chat_tao_thanh[PTTH[n]])\n",
        "        if chat_can_m in  chat_tao_thanh[PTTH[n]] and chat_can_m not in chat_duoc_cho and PTTH[m] not in helper_lsa  :\n",
        "          km = PTTH[m]\n",
        "          PTTH.pop(m)\n",
        "          #PTTH[m] = km\n",
        "          PTTH.append(km)\n",
        "          helper_lsa.append(km)'''\n",
        "  #print(PTTH)\n",
        "  return PTTH,Cac_chat_da_tim_duoc\n",
        "\n",
        "def Solution_chemical(chat_yeu_cau,chat_tao_thanh,chat_duoc_cho,Chat_mong_muon,PUHH,flag_all):\n",
        "  #print(Chat_mong_muon)\n",
        "  if Chat_mong_muon:\n",
        "    PTTH,Cac_chat_da_tim_duoc =  Solution_support(chat_yeu_cau,chat_tao_thanh,chat_duoc_cho,Chat_mong_muon)\n",
        "    for i in  PTTH:\n",
        "      print(PUHH[i])\n",
        "    #print(Chat_mong_muon)\n",
        "    if flag_all == 0:\n",
        "      for j in  Chat_mong_muon:\n",
        "        if j not in Cac_chat_da_tim_duoc:\n",
        "          print(str(j)+\" không đủ nguyên liệu để chế tạo\")\n",
        "        "
      ]
    },
    {
      "cell_type": "code",
      "execution_count": 139,
      "metadata": {
        "colab": {
          "base_uri": "https://localhost:8080/",
          "height": 712
        },
        "id": "GBU2hGdcLRMd",
        "outputId": "89dfaf36-f530-4635-8f28-245df7577694"
      },
      "outputs": [
        {
          "output_type": "stream",
          "name": "stdout",
          "text": [
            "Số chất mà bạn có các chất cách nhau bởi khoảng trắng: NaCl KMnO4 Fe H2O S\n",
            "Từ các chất đã có gồm: NaCl, KMnO4, Fe, H2O, S.\n",
            "Nhập vào chất mà bạn muốn điều chế (Nếu chưa biết thì nhập -1 để hiển thị các phản ứng có thể có): FeCl3 ZnCl2 MnCl2 Na2SO4 HClO\n",
            "ZnCl2 không thể điều chế được vì không nằm trong nguồn tri thức\n",
            "2NaCl + 2H2O ---> 2NaOH + H2 + Cl2\n",
            "2NaCl ---> 2Na + Cl2\n",
            "2H2O ---> 2H2 + O2\n",
            "S + O2 ---> SO2\n",
            "SO2 + O2 + H2O ---> H2SO4\n",
            "2NaOH + H2SO4 ---> Na2SO4 + 2H2O\n",
            "2Na + 2H2O ---> 2NaOH + H2\n",
            "H2 + Cl2 ---> 2HCl\n",
            "16HCl + 2KMnO4 ---> 2KCl + 2MnCl2 + 5Cl2 + 8H2O\n",
            "2Fe + 3Cl2 ---> 2FeCl3\n",
            "Cl2 + H2O ---> HCl + HClO\n",
            "Bạn có muốn tiếp tục không? Nhập 'Y' để tiếp tục!\n"
          ]
        },
        {
          "output_type": "error",
          "ename": "KeyboardInterrupt",
          "evalue": "ignored",
          "traceback": [
            "\u001b[0;31m---------------------------------------------------------------------------\u001b[0m",
            "\u001b[0;31mKeyboardInterrupt\u001b[0m                         Traceback (most recent call last)",
            "\u001b[0;32m<ipython-input-139-d25920d90f80>\u001b[0m in \u001b[0;36m<module>\u001b[0;34m\u001b[0m\n\u001b[1;32m     20\u001b[0m   \u001b[0mSolution_chemical\u001b[0m\u001b[0;34m(\u001b[0m\u001b[0mchemical_left\u001b[0m\u001b[0;34m,\u001b[0m\u001b[0mchemical_right\u001b[0m\u001b[0;34m,\u001b[0m\u001b[0mlst_chemical_have\u001b[0m\u001b[0;34m,\u001b[0m\u001b[0mlst_chemical_want_real\u001b[0m\u001b[0;34m,\u001b[0m\u001b[0mPUHH\u001b[0m\u001b[0;34m,\u001b[0m\u001b[0mflag_all\u001b[0m\u001b[0;34m)\u001b[0m\u001b[0;34m\u001b[0m\u001b[0;34m\u001b[0m\u001b[0m\n\u001b[1;32m     21\u001b[0m   \u001b[0mprint\u001b[0m\u001b[0;34m(\u001b[0m\u001b[0;34m\"Bạn có muốn tiếp tục không? Nhập 'Y' để tiếp tục!\"\u001b[0m\u001b[0;34m)\u001b[0m\u001b[0;34m\u001b[0m\u001b[0;34m\u001b[0m\u001b[0m\n\u001b[0;32m---> 22\u001b[0;31m   \u001b[0mtieptuc\u001b[0m \u001b[0;34m=\u001b[0m \u001b[0minput\u001b[0m\u001b[0;34m(\u001b[0m\u001b[0;34m)\u001b[0m\u001b[0;34m\u001b[0m\u001b[0;34m\u001b[0m\u001b[0m\n\u001b[0m\u001b[1;32m     23\u001b[0m   \u001b[0;32mif\u001b[0m \u001b[0mtieptuc\u001b[0m \u001b[0;34m!=\u001b[0m \u001b[0;34m'Y'\u001b[0m\u001b[0;34m:\u001b[0m\u001b[0;34m\u001b[0m\u001b[0;34m\u001b[0m\u001b[0m\n\u001b[1;32m     24\u001b[0m     \u001b[0;32mbreak\u001b[0m\u001b[0;34m\u001b[0m\u001b[0;34m\u001b[0m\u001b[0m\n",
            "\u001b[0;32m/usr/local/lib/python3.7/dist-packages/ipykernel/kernelbase.py\u001b[0m in \u001b[0;36mraw_input\u001b[0;34m(self, prompt)\u001b[0m\n\u001b[1;32m    861\u001b[0m             \u001b[0mself\u001b[0m\u001b[0;34m.\u001b[0m\u001b[0m_parent_ident\u001b[0m\u001b[0;34m,\u001b[0m\u001b[0;34m\u001b[0m\u001b[0;34m\u001b[0m\u001b[0m\n\u001b[1;32m    862\u001b[0m             \u001b[0mself\u001b[0m\u001b[0;34m.\u001b[0m\u001b[0m_parent_header\u001b[0m\u001b[0;34m,\u001b[0m\u001b[0;34m\u001b[0m\u001b[0;34m\u001b[0m\u001b[0m\n\u001b[0;32m--> 863\u001b[0;31m             \u001b[0mpassword\u001b[0m\u001b[0;34m=\u001b[0m\u001b[0;32mFalse\u001b[0m\u001b[0;34m,\u001b[0m\u001b[0;34m\u001b[0m\u001b[0;34m\u001b[0m\u001b[0m\n\u001b[0m\u001b[1;32m    864\u001b[0m         )\n\u001b[1;32m    865\u001b[0m \u001b[0;34m\u001b[0m\u001b[0m\n",
            "\u001b[0;32m/usr/local/lib/python3.7/dist-packages/ipykernel/kernelbase.py\u001b[0m in \u001b[0;36m_input_request\u001b[0;34m(self, prompt, ident, parent, password)\u001b[0m\n\u001b[1;32m    902\u001b[0m             \u001b[0;32mexcept\u001b[0m \u001b[0mKeyboardInterrupt\u001b[0m\u001b[0;34m:\u001b[0m\u001b[0;34m\u001b[0m\u001b[0;34m\u001b[0m\u001b[0m\n\u001b[1;32m    903\u001b[0m                 \u001b[0;31m# re-raise KeyboardInterrupt, to truncate traceback\u001b[0m\u001b[0;34m\u001b[0m\u001b[0;34m\u001b[0m\u001b[0;34m\u001b[0m\u001b[0m\n\u001b[0;32m--> 904\u001b[0;31m                 \u001b[0;32mraise\u001b[0m \u001b[0mKeyboardInterrupt\u001b[0m\u001b[0;34m(\u001b[0m\u001b[0;34m\"Interrupted by user\"\u001b[0m\u001b[0;34m)\u001b[0m \u001b[0;32mfrom\u001b[0m \u001b[0;32mNone\u001b[0m\u001b[0;34m\u001b[0m\u001b[0;34m\u001b[0m\u001b[0m\n\u001b[0m\u001b[1;32m    905\u001b[0m             \u001b[0;32mexcept\u001b[0m \u001b[0mException\u001b[0m \u001b[0;32mas\u001b[0m \u001b[0me\u001b[0m\u001b[0;34m:\u001b[0m\u001b[0;34m\u001b[0m\u001b[0;34m\u001b[0m\u001b[0m\n\u001b[1;32m    906\u001b[0m                 \u001b[0mself\u001b[0m\u001b[0;34m.\u001b[0m\u001b[0mlog\u001b[0m\u001b[0;34m.\u001b[0m\u001b[0mwarning\u001b[0m\u001b[0;34m(\u001b[0m\u001b[0;34m\"Invalid Message:\"\u001b[0m\u001b[0;34m,\u001b[0m \u001b[0mexc_info\u001b[0m\u001b[0;34m=\u001b[0m\u001b[0;32mTrue\u001b[0m\u001b[0;34m)\u001b[0m\u001b[0;34m\u001b[0m\u001b[0;34m\u001b[0m\u001b[0m\n",
            "\u001b[0;31mKeyboardInterrupt\u001b[0m: Interrupted by user"
          ]
        }
      ],
      "source": [
        "chemical_left = read_file_2D(\"bentrai.txt\")\n",
        "chemical_right = read_file_2D(\"benphai.txt\")\n",
        "PUHH = read_file_1D(\"PUHH.txt\")\n",
        "#print(chemical_left)\n",
        "#print(chemical_right)\n",
        "#print(PUHH)\n",
        "\n",
        "lst_chemical_have =Convert(input(\"Số chất mà bạn có các chất cách nhau bởi khoảng trắng: \"))\n",
        "while True:\n",
        "  print(\"Từ các chất đã có gồm: {}.\".format(', '.join(lst_chemical_have)))\n",
        "  lst_chemical_want = Convert(input(\"Nhập vào chất mà bạn muốn điều chế (Nếu chưa biết thì nhập -1 để hiển thị các phản ứng có thể có): \"))\n",
        "  #print(lst_chemical_want)\n",
        "  #print(lst_chemical_want-)\n",
        "  flag_all = 0\n",
        "  if lst_chemical_want[0] == \"-1\":\n",
        "    lst_chemical_want = []\n",
        "    flag_all = 1\n",
        "  lst_chemical_want_real = find_chemical_real(chemical_right,lst_chemical_want)\n",
        "  #print(lst_chemical_want_real)\n",
        "  Solution_chemical(chemical_left,chemical_right,lst_chemical_have,lst_chemical_want_real,PUHH,flag_all)\n",
        "  print(\"Bạn có muốn tiếp tục không? Nhập 'Y' để tiếp tục!\")\n",
        "  tieptuc = input()\n",
        "  if tieptuc != 'Y':\n",
        "    break "
      ]
    }
  ],
  "metadata": {
    "colab": {
      "collapsed_sections": [],
      "provenance": []
    },
    "kernelspec": {
      "display_name": "Python 3",
      "name": "python3"
    },
    "language_info": {
      "name": "python"
    }
  },
  "nbformat": 4,
  "nbformat_minor": 0
}